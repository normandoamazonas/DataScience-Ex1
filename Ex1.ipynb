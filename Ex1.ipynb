{
  "nbformat": 4,
  "nbformat_minor": 0,
  "metadata": {
    "colab": {
      "provenance": []
    },
    "kernelspec": {
      "name": "python3",
      "display_name": "Python 3"
    }
  },
  "cells": [
    {
      "cell_type": "markdown",
      "metadata": {
        "id": "1M7Xvyh0p8f5"
      },
      "source": [
        "\n",
        "\n",
        "Disciplina: SCC5948_Ciência_de_dados\n",
        "\n",
        "Normando de Campos Amazonas Filho\n",
        "\n",
        "NUSP: 11561949"
      ]
    },
    {
      "cell_type": "markdown",
      "source": [
        "## Dados multidimensionais\n",
        "\n",
        "#### 1. Importe as bibliotecas Numpy e Pandas e carregue o conjunto de dados Iris"
      ],
      "metadata": {
        "id": "U03CXRImDcg_"
      }
    },
    {
      "cell_type": "code",
      "metadata": {
        "id": "_2XBWWKfp8DD"
      },
      "source": [
        "# Imports\n",
        "import pandas as pd\n",
        "import numpy as np"
      ],
      "execution_count": null,
      "outputs": []
    },
    {
      "cell_type": "code",
      "metadata": {
        "id": "y6xkLXiNqU9I",
        "colab": {
          "base_uri": "https://localhost:8080/"
        },
        "outputId": "402c95d8-b4d9-42b2-955e-9ef8a094e65d"
      },
      "source": [
        "# Carregando base de dados\n",
        "# Permissão de leitura para o Drive\n",
        "# Autorize o Collab a acessar seus arquivos no drive\n",
        "from google.colab import drive\n",
        "drive.mount('/content/drive')"
      ],
      "execution_count": null,
      "outputs": [
        {
          "output_type": "stream",
          "text": [
            "Mounted at /content/drive\n"
          ],
          "name": "stdout"
        }
      ]
    },
    {
      "cell_type": "code",
      "metadata": {
        "colab": {
          "base_uri": "https://localhost:8080/",
          "height": 413
        },
        "id": "-VXfmidAhGP1",
        "outputId": "58e7b403-e9b6-49b3-aab4-aaa363586925"
      },
      "source": [
        "iris = pd.read_csv(\"/content/drive/MyDrive/SCC5948/Aula 1/iris.data\",\n",
        "                       sep=\",\", header=None)\n",
        "iris"
      ],
      "execution_count": null,
      "outputs": [
        {
          "output_type": "execute_result",
          "data": {
            "text/html": [
              "<div>\n",
              "<style scoped>\n",
              "    .dataframe tbody tr th:only-of-type {\n",
              "        vertical-align: middle;\n",
              "    }\n",
              "\n",
              "    .dataframe tbody tr th {\n",
              "        vertical-align: top;\n",
              "    }\n",
              "\n",
              "    .dataframe thead th {\n",
              "        text-align: right;\n",
              "    }\n",
              "</style>\n",
              "<table border=\"1\" class=\"dataframe\">\n",
              "  <thead>\n",
              "    <tr style=\"text-align: right;\">\n",
              "      <th></th>\n",
              "      <th>0</th>\n",
              "      <th>1</th>\n",
              "      <th>2</th>\n",
              "      <th>3</th>\n",
              "      <th>4</th>\n",
              "    </tr>\n",
              "  </thead>\n",
              "  <tbody>\n",
              "    <tr>\n",
              "      <th>0</th>\n",
              "      <td>5.1</td>\n",
              "      <td>3.5</td>\n",
              "      <td>1.4</td>\n",
              "      <td>0.2</td>\n",
              "      <td>Iris-setosa</td>\n",
              "    </tr>\n",
              "    <tr>\n",
              "      <th>1</th>\n",
              "      <td>4.9</td>\n",
              "      <td>3.0</td>\n",
              "      <td>1.4</td>\n",
              "      <td>0.2</td>\n",
              "      <td>Iris-setosa</td>\n",
              "    </tr>\n",
              "    <tr>\n",
              "      <th>2</th>\n",
              "      <td>4.7</td>\n",
              "      <td>3.2</td>\n",
              "      <td>1.3</td>\n",
              "      <td>0.2</td>\n",
              "      <td>Iris-setosa</td>\n",
              "    </tr>\n",
              "    <tr>\n",
              "      <th>3</th>\n",
              "      <td>4.6</td>\n",
              "      <td>3.1</td>\n",
              "      <td>1.5</td>\n",
              "      <td>0.2</td>\n",
              "      <td>Iris-setosa</td>\n",
              "    </tr>\n",
              "    <tr>\n",
              "      <th>4</th>\n",
              "      <td>5.0</td>\n",
              "      <td>3.6</td>\n",
              "      <td>1.4</td>\n",
              "      <td>0.2</td>\n",
              "      <td>Iris-setosa</td>\n",
              "    </tr>\n",
              "    <tr>\n",
              "      <th>...</th>\n",
              "      <td>...</td>\n",
              "      <td>...</td>\n",
              "      <td>...</td>\n",
              "      <td>...</td>\n",
              "      <td>...</td>\n",
              "    </tr>\n",
              "    <tr>\n",
              "      <th>145</th>\n",
              "      <td>6.7</td>\n",
              "      <td>3.0</td>\n",
              "      <td>5.2</td>\n",
              "      <td>2.3</td>\n",
              "      <td>Iris-virginica</td>\n",
              "    </tr>\n",
              "    <tr>\n",
              "      <th>146</th>\n",
              "      <td>6.3</td>\n",
              "      <td>2.5</td>\n",
              "      <td>5.0</td>\n",
              "      <td>1.9</td>\n",
              "      <td>Iris-virginica</td>\n",
              "    </tr>\n",
              "    <tr>\n",
              "      <th>147</th>\n",
              "      <td>6.5</td>\n",
              "      <td>3.0</td>\n",
              "      <td>5.2</td>\n",
              "      <td>2.0</td>\n",
              "      <td>Iris-virginica</td>\n",
              "    </tr>\n",
              "    <tr>\n",
              "      <th>148</th>\n",
              "      <td>6.2</td>\n",
              "      <td>3.4</td>\n",
              "      <td>5.4</td>\n",
              "      <td>2.3</td>\n",
              "      <td>Iris-virginica</td>\n",
              "    </tr>\n",
              "    <tr>\n",
              "      <th>149</th>\n",
              "      <td>5.9</td>\n",
              "      <td>3.0</td>\n",
              "      <td>5.1</td>\n",
              "      <td>1.8</td>\n",
              "      <td>Iris-virginica</td>\n",
              "    </tr>\n",
              "  </tbody>\n",
              "</table>\n",
              "<p>150 rows × 5 columns</p>\n",
              "</div>"
            ],
            "text/plain": [
              "       0    1    2    3               4\n",
              "0    5.1  3.5  1.4  0.2     Iris-setosa\n",
              "1    4.9  3.0  1.4  0.2     Iris-setosa\n",
              "2    4.7  3.2  1.3  0.2     Iris-setosa\n",
              "3    4.6  3.1  1.5  0.2     Iris-setosa\n",
              "4    5.0  3.6  1.4  0.2     Iris-setosa\n",
              "..   ...  ...  ...  ...             ...\n",
              "145  6.7  3.0  5.2  2.3  Iris-virginica\n",
              "146  6.3  2.5  5.0  1.9  Iris-virginica\n",
              "147  6.5  3.0  5.2  2.0  Iris-virginica\n",
              "148  6.2  3.4  5.4  2.3  Iris-virginica\n",
              "149  5.9  3.0  5.1  1.8  Iris-virginica\n",
              "\n",
              "[150 rows x 5 columns]"
            ]
          },
          "metadata": {
            "tags": []
          },
          "execution_count": 5
        }
      ]
    },
    {
      "cell_type": "markdown",
      "metadata": {
        "id": "FpaB6u7dqXa5"
      },
      "source": [
        "### [Sobre o Iris ](https://pt.wikipedia.org/wiki/Conjunto_de_dados_flor_Iris)\n",
        "O conjunto de dados consiste em amostras de três espécies de flores Iris ( Iris setosa, Iris virginica e Iris versicolor). Quatro atributos foram medidos em cada amostra: o comprimento e a largura das sépalas e pétalas, em centímetros.\n",
        "\n",
        "A estrutura das variáveis no arquivo é:\n",
        "\n",
        "1. comprimento sépala em cm\n",
        "2. largura sépala em cm\n",
        "3. comprimento da pétala em cm\n",
        "4. largura da pétala em cm\n",
        "5. classe:\n",
        "  - Iris Setosa\n",
        "  - Iris Versicolour\n",
        "  - Iris Virginica"
      ]
    },
    {
      "cell_type": "markdown",
      "metadata": {
        "id": "1B9BsWhIsmgg"
      },
      "source": [
        "#### 2. Coloque nomes nas colunas do DataFrame de acordo com a descrição acima"
      ]
    },
    {
      "cell_type": "code",
      "metadata": {
        "id": "v0d7ac3QsvBh",
        "colab": {
          "base_uri": "https://localhost:8080/"
        },
        "outputId": "a6f46da9-0bf3-4273-f051-bbe9c8e43329"
      },
      "source": [
        "def add_column_names(df):\n",
        "  df_with_names = df\n",
        "  df_with_names.columns = ['comprimento_sep', 'largura_sep', 'comprimento_pet', 'largura_pet', 'classe']\n",
        "  return df_with_names\n",
        "\n",
        "iris = add_column_names(iris)\n",
        "print(iris)"
      ],
      "execution_count": null,
      "outputs": [
        {
          "output_type": "stream",
          "text": [
            "     comprimento_sep  largura_sep  comprimento_pet  largura_pet          classe\n",
            "0                5.1          3.5              1.4          0.2     Iris-setosa\n",
            "1                4.9          3.0              1.4          0.2     Iris-setosa\n",
            "2                4.7          3.2              1.3          0.2     Iris-setosa\n",
            "3                4.6          3.1              1.5          0.2     Iris-setosa\n",
            "4                5.0          3.6              1.4          0.2     Iris-setosa\n",
            "..               ...          ...              ...          ...             ...\n",
            "145              6.7          3.0              5.2          2.3  Iris-virginica\n",
            "146              6.3          2.5              5.0          1.9  Iris-virginica\n",
            "147              6.5          3.0              5.2          2.0  Iris-virginica\n",
            "148              6.2          3.4              5.4          2.3  Iris-virginica\n",
            "149              5.9          3.0              5.1          1.8  Iris-virginica\n",
            "\n",
            "[150 rows x 5 columns]\n"
          ],
          "name": "stdout"
        }
      ]
    },
    {
      "cell_type": "markdown",
      "metadata": {
        "id": "PRwETVrfs9BP"
      },
      "source": [
        "#### 3. Usando Pandas, gere um histograma dos valores para cada um dos atributos (colunas) numéricos\n",
        "\n"
      ]
    },
    {
      "cell_type": "code",
      "metadata": {
        "id": "5ZVDuAEptBK2",
        "colab": {
          "base_uri": "https://localhost:8080/",
          "height": 281
        },
        "outputId": "9bbfcffa-9952-45eb-8212-8f58cdc243bc"
      },
      "source": [
        "def show_histograms(df):\n",
        "  df.hist()\n",
        "show_histograms(iris)"
      ],
      "execution_count": null,
      "outputs": [
        {
          "output_type": "display_data",
          "data": {
            "image/png": "[encoded data removed]",
            "text/plain": [
              "<Figure size 432x288 with 4 Axes>"
            ]
          },
          "metadata": {
            "tags": [],
            "needs_background": "light"
          }
        }
      ]
    },
    {
      "cell_type": "markdown",
      "metadata": {
        "id": "iV2FT2mKrTxL"
      },
      "source": [
        "#### 4. Mostre o histograma para cada classe de um atributo (recebido por parâmetro)\n",
        "\n",
        "---\n",
        "\n",
        "\n",
        "\n"
      ]
    },
    {
      "cell_type": "code",
      "metadata": {
        "id": "KL2WGIfJtIO4",
        "colab": {
          "base_uri": "https://localhost:8080/",
          "height": 809
        },
        "outputId": "afc5db8e-57d3-486a-b04d-24b9c0423b27"
      },
      "source": [
        "def show_histogram_per_class(df, attr_name):\n",
        "  classes = pd.unique(iris['classe'])\n",
        "  for c in classes:\n",
        "    df[df.classe == c].hist(attr_name)\n",
        "show_histogram_per_class(iris, 'largura_sep')"
      ],
      "execution_count": null,
      "outputs": [
        {
          "output_type": "display_data",
          "data": {
            "image/png": "[encoded data removed]",
            "text/plain": [
              "<Figure size 432x288 with 1 Axes>"
            ]
          },
          "metadata": {
            "tags": [],
            "needs_background": "light"
          }
        },
        {
          "output_type": "display_data",
          "data": {
            "image/png": "[encoded data removed]",
            "text/plain": [
              "<Figure size 432x288 with 1 Axes>"
            ]
          },
          "metadata": {
            "tags": [],
            "needs_background": "light"
          }
        },
        {
          "output_type": "display_data",
          "data": {
            "image/png": "[encoded data removed]",
            "text/plain": [
              "<Figure size 432x288 with 1 Axes>"
            ]
          },
          "metadata": {
            "tags": [],
            "needs_background": "light"
          }
        }
      ]
    },
    {
      "cell_type": "markdown",
      "metadata": {
        "id": "X_bHuB2GtnKE"
      },
      "source": [
        "#### 5. Todas as medições foram feitas em cm, crie uma nova coluna para cada atributo com seus valores em milímetros"
      ]
    },
    {
      "cell_type": "code",
      "metadata": {
        "id": "2-5ZxotvtmX8"
      },
      "source": [
        "def add_mm_cols(df):\n",
        "  col_names = df.columns[:-1]\n",
        "  df_with_mm = df\n",
        "  for c in col_names:\n",
        "    df_with_mm[c + '_mm'] = df[c]*10\n",
        "  return df_with_mm\n",
        "add_mm_cols(iris)"
      ],
      "execution_count": null,
      "outputs": []
    },
    {
      "cell_type": "markdown",
      "metadata": {
        "id": "7OpjoytyuHxJ"
      },
      "source": [
        "### 6.  Conte o número de amostras por classe, retorne uma lista com 3 elementos com a contagem de cada classe\n"
      ]
    },
    {
      "cell_type": "code",
      "metadata": {
        "id": "bcRCORe_uUpt",
        "colab": {
          "base_uri": "https://localhost:8080/"
        },
        "outputId": "4e85e12e-31d9-47b0-966b-152d23073f0b"
      },
      "source": [
        "def count_samples_per_class(df):\n",
        "  num_elems_class = []\n",
        "  classes = pd.unique(df.classe)\n",
        "  for c in classes:\n",
        "    num_c = (df.classe == c).sum()\n",
        "    num_elems_class.append(num_c)\n",
        "  return num_elems_class\n",
        "count_samples_per_class(iris)"
      ],
      "execution_count": null,
      "outputs": [
        {
          "output_type": "execute_result",
          "data": {
            "text/plain": [
              "[50, 50, 50]"
            ]
          },
          "metadata": {
            "tags": []
          },
          "execution_count": 42
        }
      ]
    },
    {
      "cell_type": "markdown",
      "metadata": {
        "id": "_jBX26yTut9N"
      },
      "source": [
        "#### 7. Dado um atributo, printe qual classe possui o maior e menor valor. Exemplo (não necessáriamente correto): \"A classe Iris-Setosa possui a menor medição de largura de sépala.\""
      ]
    },
    {
      "cell_type": "code",
      "metadata": {
        "id": "q3qZwdfYutVM",
        "colab": {
          "base_uri": "https://localhost:8080/"
        },
        "outputId": "3bc62f0f-f048-4cfe-9849-3989aeb9512a"
      },
      "source": [
        "def min_max(df, attr_name):\n",
        "  # maximo\n",
        "  idx_max = df[attr_name].idxmax()\n",
        "  max_class_name = df.iloc[idx_max].classe\n",
        "\n",
        "  # minimo\n",
        "  idx_min = df[attr_name].idxmin()\n",
        "  min_class_name = df.iloc[idx_min].classe\n",
        "\n",
        "  print('A classe {} possui o maior {}'.format(max_class_name, attr_name))\n",
        "  print('A classe {} possui o menor {}'.format(min_class_name, attr_name))\n",
        "\n",
        "min_max(iris, 'largura_sep')"
      ],
      "execution_count": null,
      "outputs": [
        {
          "output_type": "stream",
          "text": [
            "A classe Iris-setosa possui o maior largura_sep\n",
            "A classe Iris-versicolor possui o menor largura_sep\n"
          ],
          "name": "stdout"
        }
      ]
    }
  ]
}