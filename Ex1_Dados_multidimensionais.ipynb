{
  "nbformat": 4,
  "nbformat_minor": 0,
  "metadata": {
    "colab": {
      "provenance": []
    },
    "kernelspec": {
      "name": "python3",
      "display_name": "Python 3"
    }
  },
  "cells": [
    {
      "cell_type": "markdown",
      "metadata": {
        "id": "gkjYMF3lBbF_"
      },
      "source": [
        "**Disciplina:** SCC5948_Ciência_de_dados\n",
        "\n",
        "**Normando de Campos Amazonas Filho**\n",
        "\n",
        "**NUSP:** 11561949"
      ]
    },
    {
      "cell_type": "markdown",
      "metadata": {
        "id": "1M7Xvyh0p8f5"
      },
      "source": [
        "## Dados multidimensionais\n",
        "\n",
        "#### 1. Importe as bibliotecas Numpy e Pandas e carregue o conjunto de dados Iris\n",
        "\n"
      ]
    },
    {
      "cell_type": "code",
      "metadata": {
        "id": "_2XBWWKfp8DD"
      },
      "source": [
        "# Imports\n",
        "import pandas as pd\n",
        "import numpy as np\n",
        "import matplotlib.pyplot as plt\n",
        "import seaborn as sns\n",
        "\n",
        "sns.set(rc={\"figure.figsize\": (20, 10)})"
      ],
      "execution_count": null,
      "outputs": []
    },
    {
      "cell_type": "code",
      "metadata": {
        "colab": {
          "base_uri": "https://localhost:8080/"
        },
        "id": "AiBqS75cQPNn",
        "outputId": "b22d2211-a6a6-4f66-dbb3-a849162ba3b1"
      },
      "source": [
        "from google.colab import drive\n",
        "drive.mount('/content/drive')"
      ],
      "execution_count": null,
      "outputs": [
        {
          "output_type": "stream",
          "text": [
            "Drive already mounted at /content/drive; to attempt to forcibly remount, call drive.mount(\"/content/drive\", force_remount=True).\n"
          ],
          "name": "stdout"
        }
      ]
    },
    {
      "cell_type": "code",
      "metadata": {
        "id": "y6xkLXiNqU9I"
      },
      "source": [
        "# Carregando base de dados\n",
        "df = pd.read_csv(\"/content/drive/MyDrive/Mestrado/Discipinas/Exercícios - Ciência de Dados/data/iris.data\", sep=\",\", header=None)"
      ],
      "execution_count": null,
      "outputs": []
    },
    {
      "cell_type": "code",
      "metadata": {
        "colab": {
          "base_uri": "https://localhost:8080/",
          "height": 206
        },
        "id": "K37SlBPeQrtb",
        "outputId": "99275959-92f1-4880-9ef8-024a59c1aa9c"
      },
      "source": [
        "df.head()"
      ],
      "execution_count": null,
      "outputs": [
        {
          "output_type": "execute_result",
          "data": {
            "text/html": [
              "<div>\n",
              "<style scoped>\n",
              "    .dataframe tbody tr th:only-of-type {\n",
              "        vertical-align: middle;\n",
              "    }\n",
              "\n",
              "    .dataframe tbody tr th {\n",
              "        vertical-align: top;\n",
              "    }\n",
              "\n",
              "    .dataframe thead th {\n",
              "        text-align: right;\n",
              "    }\n",
              "</style>\n",
              "<table border=\"1\" class=\"dataframe\">\n",
              "  <thead>\n",
              "    <tr style=\"text-align: right;\">\n",
              "      <th></th>\n",
              "      <th>0</th>\n",
              "      <th>1</th>\n",
              "      <th>2</th>\n",
              "      <th>3</th>\n",
              "      <th>4</th>\n",
              "    </tr>\n",
              "  </thead>\n",
              "  <tbody>\n",
              "    <tr>\n",
              "      <th>0</th>\n",
              "      <td>5.1</td>\n",
              "      <td>3.5</td>\n",
              "      <td>1.4</td>\n",
              "      <td>0.2</td>\n",
              "      <td>Iris-setosa</td>\n",
              "    </tr>\n",
              "    <tr>\n",
              "      <th>1</th>\n",
              "      <td>4.9</td>\n",
              "      <td>3.0</td>\n",
              "      <td>1.4</td>\n",
              "      <td>0.2</td>\n",
              "      <td>Iris-setosa</td>\n",
              "    </tr>\n",
              "    <tr>\n",
              "      <th>2</th>\n",
              "      <td>4.7</td>\n",
              "      <td>3.2</td>\n",
              "      <td>1.3</td>\n",
              "      <td>0.2</td>\n",
              "      <td>Iris-setosa</td>\n",
              "    </tr>\n",
              "    <tr>\n",
              "      <th>3</th>\n",
              "      <td>4.6</td>\n",
              "      <td>3.1</td>\n",
              "      <td>1.5</td>\n",
              "      <td>0.2</td>\n",
              "      <td>Iris-setosa</td>\n",
              "    </tr>\n",
              "    <tr>\n",
              "      <th>4</th>\n",
              "      <td>5.0</td>\n",
              "      <td>3.6</td>\n",
              "      <td>1.4</td>\n",
              "      <td>0.2</td>\n",
              "      <td>Iris-setosa</td>\n",
              "    </tr>\n",
              "  </tbody>\n",
              "</table>\n",
              "</div>"
            ],
            "text/plain": [
              "     0    1    2    3            4\n",
              "0  5.1  3.5  1.4  0.2  Iris-setosa\n",
              "1  4.9  3.0  1.4  0.2  Iris-setosa\n",
              "2  4.7  3.2  1.3  0.2  Iris-setosa\n",
              "3  4.6  3.1  1.5  0.2  Iris-setosa\n",
              "4  5.0  3.6  1.4  0.2  Iris-setosa"
            ]
          },
          "metadata": {
            "tags": []
          },
          "execution_count": 42
        }
      ]
    },
    {
      "cell_type": "markdown",
      "metadata": {
        "id": "FpaB6u7dqXa5"
      },
      "source": [
        "### [Sobre o Iris ](https://pt.wikipedia.org/wiki/Conjunto_de_dados_flor_Iris)\n",
        "O conjunto de dados consiste em amostras de três espécies de flores Iris ( Iris setosa, Iris virginica e Iris versicolor). Quatro atributos foram medidos em cada amostra: o comprimento e a largura das sépalas e pétalas, em centímetros.\n",
        "\n",
        "A estrutura das variáveis no arquivo é:\n",
        "\n",
        "1. comprimento sépala em cm\n",
        "2. largura sépala em cm\n",
        "3. comprimento da pétala em cm\n",
        "4. largura da pétala em cm\n",
        "5. classe:\n",
        "  - Iris Setosa\n",
        "  - Iris Versicolour\n",
        "  - Iris Virginica"
      ]
    },
    {
      "cell_type": "markdown",
      "metadata": {
        "id": "1B9BsWhIsmgg"
      },
      "source": [
        "#### 2. Coloque nomes nas colunas do DataFrame de acordo com a descrição acima"
      ]
    },
    {
      "cell_type": "code",
      "metadata": {
        "id": "v0d7ac3QsvBh"
      },
      "source": [
        "def add_column_names(df):\n",
        "  # seu código aqui\n",
        "  df.columns = [\"comprimento_sepala_cm\", \"largura_sepala_cm\", \"comprimento_petala_cm\", \"largura_petala_cm\", \"classe\"]\n",
        "  return df"
      ],
      "execution_count": null,
      "outputs": []
    },
    {
      "cell_type": "code",
      "metadata": {
        "id": "9QWH26v7SyDS"
      },
      "source": [
        "df = add_column_names(df)"
      ],
      "execution_count": null,
      "outputs": []
    },
    {
      "cell_type": "code",
      "metadata": {
        "colab": {
          "base_uri": "https://localhost:8080/",
          "height": 206
        },
        "id": "GV48Qo7CTHA8",
        "outputId": "2d5ac4a2-faec-4055-a42b-f167609f0607"
      },
      "source": [
        "df.head()"
      ],
      "execution_count": null,
      "outputs": [
        {
          "output_type": "execute_result",
          "data": {
            "text/html": [
              "<div>\n",
              "<style scoped>\n",
              "    .dataframe tbody tr th:only-of-type {\n",
              "        vertical-align: middle;\n",
              "    }\n",
              "\n",
              "    .dataframe tbody tr th {\n",
              "        vertical-align: top;\n",
              "    }\n",
              "\n",
              "    .dataframe thead th {\n",
              "        text-align: right;\n",
              "    }\n",
              "</style>\n",
              "<table border=\"1\" class=\"dataframe\">\n",
              "  <thead>\n",
              "    <tr style=\"text-align: right;\">\n",
              "      <th></th>\n",
              "      <th>comprimento_sepala_cm</th>\n",
              "      <th>largura_sepala_cm</th>\n",
              "      <th>comprimento_petala_cm</th>\n",
              "      <th>largura_petala_cm</th>\n",
              "      <th>classe</th>\n",
              "    </tr>\n",
              "  </thead>\n",
              "  <tbody>\n",
              "    <tr>\n",
              "      <th>0</th>\n",
              "      <td>5.1</td>\n",
              "      <td>3.5</td>\n",
              "      <td>1.4</td>\n",
              "      <td>0.2</td>\n",
              "      <td>Iris-setosa</td>\n",
              "    </tr>\n",
              "    <tr>\n",
              "      <th>1</th>\n",
              "      <td>4.9</td>\n",
              "      <td>3.0</td>\n",
              "      <td>1.4</td>\n",
              "      <td>0.2</td>\n",
              "      <td>Iris-setosa</td>\n",
              "    </tr>\n",
              "    <tr>\n",
              "      <th>2</th>\n",
              "      <td>4.7</td>\n",
              "      <td>3.2</td>\n",
              "      <td>1.3</td>\n",
              "      <td>0.2</td>\n",
              "      <td>Iris-setosa</td>\n",
              "    </tr>\n",
              "    <tr>\n",
              "      <th>3</th>\n",
              "      <td>4.6</td>\n",
              "      <td>3.1</td>\n",
              "      <td>1.5</td>\n",
              "      <td>0.2</td>\n",
              "      <td>Iris-setosa</td>\n",
              "    </tr>\n",
              "    <tr>\n",
              "      <th>4</th>\n",
              "      <td>5.0</td>\n",
              "      <td>3.6</td>\n",
              "      <td>1.4</td>\n",
              "      <td>0.2</td>\n",
              "      <td>Iris-setosa</td>\n",
              "    </tr>\n",
              "  </tbody>\n",
              "</table>\n",
              "</div>"
            ],
            "text/plain": [
              "   comprimento_sepala_cm  largura_sepala_cm  ...  largura_petala_cm       classe\n",
              "0                    5.1                3.5  ...                0.2  Iris-setosa\n",
              "1                    4.9                3.0  ...                0.2  Iris-setosa\n",
              "2                    4.7                3.2  ...                0.2  Iris-setosa\n",
              "3                    4.6                3.1  ...                0.2  Iris-setosa\n",
              "4                    5.0                3.6  ...                0.2  Iris-setosa\n",
              "\n",
              "[5 rows x 5 columns]"
            ]
          },
          "metadata": {
            "tags": []
          },
          "execution_count": 45
        }
      ]
    },
    {
      "cell_type": "markdown",
      "metadata": {
        "id": "PRwETVrfs9BP"
      },
      "source": [
        "#### 3. Usando Pandas, gere um histograma dos valores para cada um dos atributos (colunas)\n",
        "\n"
      ]
    },
    {
      "cell_type": "code",
      "metadata": {
        "id": "5ZVDuAEptBK2"
      },
      "source": [
        "def show_histograms(df):\n",
        "\n",
        "  fig, axes = plt.subplots(3, 2)\n",
        "\n",
        "  i = 0\n",
        "\n",
        "  for line_ax in axes:\n",
        "    for column_ax in line_ax:\n",
        "      df[df.columns[i]].hist(ax=column_ax)\n",
        "      column_ax.set_title(df.columns[i])\n",
        "      i+=1\n",
        "      if i == 5: break\n",
        "\n",
        "  fig.delaxes(axes[2,1])\n"
      ],
      "execution_count": null,
      "outputs": []
    },
    {
      "cell_type": "code",
      "metadata": {
        "colab": {
          "base_uri": "https://localhost:8080/",
          "height": 610
        },
        "id": "uCciKjYTVT06",
        "outputId": "e74bbcca-2ec6-4b1c-ad62-bc55d21ac6c1"
      },
      "source": [
        "show_histograms(df)"
      ],
      "execution_count": null,
      "outputs": [
        {
          "output_type": "display_data",
          "data": {
            "image/png": "[encoded data removed]",
            "text/plain": [
              "<Figure size 1440x720 with 5 Axes>"
            ]
          },
          "metadata": {
            "tags": []
          }
        }
      ]
    },
    {
      "cell_type": "markdown",
      "metadata": {
        "id": "iV2FT2mKrTxL"
      },
      "source": [
        "#### 4. Mostre o histograma para cada classe de um atributo (recebido por parâmetro)\n",
        "\n",
        "---\n",
        "\n",
        "\n",
        "\n"
      ]
    },
    {
      "cell_type": "code",
      "metadata": {
        "id": "KL2WGIfJtIO4"
      },
      "source": [
        "def show_histogram_per_class(df, attr_name):\n",
        "\n",
        "  fig, axes = plt.subplots(3)\n",
        "\n",
        "  for ax, cl in zip(axes, df[\"classe\"].unique()):\n",
        "    filtered_df = df[df[\"classe\"] == cl]\n",
        "    filtered_df[attr_name].hist(ax=ax)\n",
        "    ax.set_title(cl)\n"
      ],
      "execution_count": null,
      "outputs": []
    },
    {
      "cell_type": "code",
      "metadata": {
        "colab": {
          "base_uri": "https://localhost:8080/",
          "height": 610
        },
        "id": "GB4yz18GYaW3",
        "outputId": "9244fe68-76fb-48da-acaf-de352122b3b0"
      },
      "source": [
        "show_histogram_per_class(df, \"largura_sepala_cm\")"
      ],
      "execution_count": null,
      "outputs": [
        {
          "output_type": "display_data",
          "data": {
            "image/png": "[encoded data removed]",
            "text/plain": [
              "<Figure size 1440x720 with 3 Axes>"
            ]
          },
          "metadata": {
            "tags": []
          }
        }
      ]
    },
    {
      "cell_type": "markdown",
      "metadata": {
        "id": "X_bHuB2GtnKE"
      },
      "source": [
        "#### 5. Todas as medições foram feitas em cm. crie uma nova coluna para cada atributo com seus valores em milímetros"
      ]
    },
    {
      "cell_type": "code",
      "metadata": {
        "id": "2-5ZxotvtmX8"
      },
      "source": [
        "def add_mm_cols(df):\n",
        "  # seu código aqui\n",
        "  for column in df.columns:\n",
        "    if column == \"classe\": continue\n",
        "\n",
        "    df[column.replace(\"cm\", \"mm\")] = df[column] * 10\n",
        "\n",
        "  return df"
      ],
      "execution_count": null,
      "outputs": []
    },
    {
      "cell_type": "code",
      "metadata": {
        "id": "EHkRJ-ReaIDj"
      },
      "source": [
        "df = add_mm_cols(df)"
      ],
      "execution_count": null,
      "outputs": []
    },
    {
      "cell_type": "code",
      "metadata": {
        "colab": {
          "base_uri": "https://localhost:8080/",
          "height": 313
        },
        "id": "awSTcnUGZ8zq",
        "outputId": "75750b90-7eaa-4e07-dfef-f76b7d596a51"
      },
      "source": [
        "df.head()"
      ],
      "execution_count": null,
      "outputs": [
        {
          "output_type": "execute_result",
          "data": {
            "text/html": [
              "<div>\n",
              "<style scoped>\n",
              "    .dataframe tbody tr th:only-of-type {\n",
              "        vertical-align: middle;\n",
              "    }\n",
              "\n",
              "    .dataframe tbody tr th {\n",
              "        vertical-align: top;\n",
              "    }\n",
              "\n",
              "    .dataframe thead th {\n",
              "        text-align: right;\n",
              "    }\n",
              "</style>\n",
              "<table border=\"1\" class=\"dataframe\">\n",
              "  <thead>\n",
              "    <tr style=\"text-align: right;\">\n",
              "      <th></th>\n",
              "      <th>comprimento_sepala_cm</th>\n",
              "      <th>largura_sepala_cm</th>\n",
              "      <th>comprimento_petala_cm</th>\n",
              "      <th>largura_petala_cm</th>\n",
              "      <th>classe</th>\n",
              "      <th>comprimento_sepala_mm</th>\n",
              "      <th>largura_sepala_mm</th>\n",
              "      <th>comprimento_petala_mm</th>\n",
              "      <th>largura_petala_mm</th>\n",
              "    </tr>\n",
              "  </thead>\n",
              "  <tbody>\n",
              "    <tr>\n",
              "      <th>0</th>\n",
              "      <td>5.1</td>\n",
              "      <td>3.5</td>\n",
              "      <td>1.4</td>\n",
              "      <td>0.2</td>\n",
              "      <td>Iris-setosa</td>\n",
              "      <td>51.0</td>\n",
              "      <td>35.0</td>\n",
              "      <td>14.0</td>\n",
              "      <td>2.0</td>\n",
              "    </tr>\n",
              "    <tr>\n",
              "      <th>1</th>\n",
              "      <td>4.9</td>\n",
              "      <td>3.0</td>\n",
              "      <td>1.4</td>\n",
              "      <td>0.2</td>\n",
              "      <td>Iris-setosa</td>\n",
              "      <td>49.0</td>\n",
              "      <td>30.0</td>\n",
              "      <td>14.0</td>\n",
              "      <td>2.0</td>\n",
              "    </tr>\n",
              "    <tr>\n",
              "      <th>2</th>\n",
              "      <td>4.7</td>\n",
              "      <td>3.2</td>\n",
              "      <td>1.3</td>\n",
              "      <td>0.2</td>\n",
              "      <td>Iris-setosa</td>\n",
              "      <td>47.0</td>\n",
              "      <td>32.0</td>\n",
              "      <td>13.0</td>\n",
              "      <td>2.0</td>\n",
              "    </tr>\n",
              "    <tr>\n",
              "      <th>3</th>\n",
              "      <td>4.6</td>\n",
              "      <td>3.1</td>\n",
              "      <td>1.5</td>\n",
              "      <td>0.2</td>\n",
              "      <td>Iris-setosa</td>\n",
              "      <td>46.0</td>\n",
              "      <td>31.0</td>\n",
              "      <td>15.0</td>\n",
              "      <td>2.0</td>\n",
              "    </tr>\n",
              "    <tr>\n",
              "      <th>4</th>\n",
              "      <td>5.0</td>\n",
              "      <td>3.6</td>\n",
              "      <td>1.4</td>\n",
              "      <td>0.2</td>\n",
              "      <td>Iris-setosa</td>\n",
              "      <td>50.0</td>\n",
              "      <td>36.0</td>\n",
              "      <td>14.0</td>\n",
              "      <td>2.0</td>\n",
              "    </tr>\n",
              "  </tbody>\n",
              "</table>\n",
              "</div>"
            ],
            "text/plain": [
              "   comprimento_sepala_cm  ...  largura_petala_mm\n",
              "0                    5.1  ...                2.0\n",
              "1                    4.9  ...                2.0\n",
              "2                    4.7  ...                2.0\n",
              "3                    4.6  ...                2.0\n",
              "4                    5.0  ...                2.0\n",
              "\n",
              "[5 rows x 9 columns]"
            ]
          },
          "metadata": {
            "tags": []
          },
          "execution_count": 52
        }
      ]
    },
    {
      "cell_type": "markdown",
      "metadata": {
        "id": "_kizNr9caghe"
      },
      "source": [
        "#### 6. Conte o número de amostras por classe, retorne uma lista com 3 elementos com a contagem de cada classe"
      ]
    },
    {
      "cell_type": "code",
      "metadata": {
        "id": "bcRCORe_uUpt"
      },
      "source": [
        "def count_samples_per_class(df):\n",
        "\n",
        "  return df[\"classe\"].value_counts().values.tolist()"
      ],
      "execution_count": null,
      "outputs": []
    },
    {
      "cell_type": "code",
      "metadata": {
        "colab": {
          "base_uri": "https://localhost:8080/"
        },
        "id": "0fWJsE1-atTs",
        "outputId": "425ab26a-3f18-4536-890b-e96e22d94fd4"
      },
      "source": [
        "count_samples_per_class(df)"
      ],
      "execution_count": null,
      "outputs": [
        {
          "output_type": "execute_result",
          "data": {
            "text/plain": [
              "[50, 50, 50]"
            ]
          },
          "metadata": {
            "tags": []
          },
          "execution_count": 54
        }
      ]
    },
    {
      "cell_type": "markdown",
      "metadata": {
        "id": "_jBX26yTut9N"
      },
      "source": [
        "#### 7. Dado um atributo, printe qual classe possui o maior e menor valor. Exemplo (não necessáriamente correto): \"A classe Iris-Setosa possui a menor medição de largura de sépala.\""
      ]
    },
    {
      "cell_type": "code",
      "metadata": {
        "id": "q3qZwdfYutVM"
      },
      "source": [
        "def min_max(df, attr_name):\n",
        "\n",
        "  # seu código aqui\n",
        "  min_df = df.groupby(\"classe\").min().sort_values(by=attr_name)\n",
        "  max_df = df.groupby(\"classe\").max().sort_values(by=attr_name, ascending=False)\n",
        "\n",
        "  min_class_name = min_df.index[0]\n",
        "  max_class_name = max_df.index[0]\n",
        "\n",
        "  print('A classe {} possui o menor {}'.format(min_class_name, attr_name))\n",
        "  print('A classe {} possui o maior {}'.format(max_class_name, attr_name))"
      ],
      "execution_count": null,
      "outputs": []
    },
    {
      "cell_type": "code",
      "metadata": {
        "colab": {
          "base_uri": "https://localhost:8080/",
          "height": 247
        },
        "id": "pZOGgUm_bexl",
        "outputId": "7b9f1f67-97f2-4372-e981-01e0e318f993"
      },
      "source": [
        "df.groupby(\"classe\").max().sort_values(by=\"largura_sepala_cm\", ascending=False)"
      ],
      "execution_count": null,
      "outputs": [
        {
          "output_type": "execute_result",
          "data": {
            "text/html": [
              "<div>\n",
              "<style scoped>\n",
              "    .dataframe tbody tr th:only-of-type {\n",
              "        vertical-align: middle;\n",
              "    }\n",
              "\n",
              "    .dataframe tbody tr th {\n",
              "        vertical-align: top;\n",
              "    }\n",
              "\n",
              "    .dataframe thead th {\n",
              "        text-align: right;\n",
              "    }\n",
              "</style>\n",
              "<table border=\"1\" class=\"dataframe\">\n",
              "  <thead>\n",
              "    <tr style=\"text-align: right;\">\n",
              "      <th></th>\n",
              "      <th>comprimento_sepala_cm</th>\n",
              "      <th>largura_sepala_cm</th>\n",
              "      <th>comprimento_petala_cm</th>\n",
              "      <th>largura_petala_cm</th>\n",
              "      <th>comprimento_sepala_mm</th>\n",
              "      <th>largura_sepala_mm</th>\n",
              "      <th>comprimento_petala_mm</th>\n",
              "      <th>largura_petala_mm</th>\n",
              "    </tr>\n",
              "    <tr>\n",
              "      <th>classe</th>\n",
              "      <th></th>\n",
              "      <th></th>\n",
              "      <th></th>\n",
              "      <th></th>\n",
              "      <th></th>\n",
              "      <th></th>\n",
              "      <th></th>\n",
              "      <th></th>\n",
              "    </tr>\n",
              "  </thead>\n",
              "  <tbody>\n",
              "    <tr>\n",
              "      <th>Iris-setosa</th>\n",
              "      <td>5.8</td>\n",
              "      <td>4.4</td>\n",
              "      <td>1.9</td>\n",
              "      <td>0.6</td>\n",
              "      <td>58.0</td>\n",
              "      <td>44.0</td>\n",
              "      <td>19.0</td>\n",
              "      <td>6.0</td>\n",
              "    </tr>\n",
              "    <tr>\n",
              "      <th>Iris-virginica</th>\n",
              "      <td>7.9</td>\n",
              "      <td>3.8</td>\n",
              "      <td>6.9</td>\n",
              "      <td>2.5</td>\n",
              "      <td>79.0</td>\n",
              "      <td>38.0</td>\n",
              "      <td>69.0</td>\n",
              "      <td>25.0</td>\n",
              "    </tr>\n",
              "    <tr>\n",
              "      <th>Iris-versicolor</th>\n",
              "      <td>7.0</td>\n",
              "      <td>3.4</td>\n",
              "      <td>5.1</td>\n",
              "      <td>1.8</td>\n",
              "      <td>70.0</td>\n",
              "      <td>34.0</td>\n",
              "      <td>51.0</td>\n",
              "      <td>18.0</td>\n",
              "    </tr>\n",
              "  </tbody>\n",
              "</table>\n",
              "</div>"
            ],
            "text/plain": [
              "                 comprimento_sepala_cm  ...  largura_petala_mm\n",
              "classe                                  ...                   \n",
              "Iris-setosa                        5.8  ...                6.0\n",
              "Iris-virginica                     7.9  ...               25.0\n",
              "Iris-versicolor                    7.0  ...               18.0\n",
              "\n",
              "[3 rows x 8 columns]"
            ]
          },
          "metadata": {
            "tags": []
          },
          "execution_count": 56
        }
      ]
    },
    {
      "cell_type": "code",
      "metadata": {
        "colab": {
          "base_uri": "https://localhost:8080/"
        },
        "id": "LsdFaA4HdQIO",
        "outputId": "79e47615-b5d4-414a-e0a4-0fdf6ebeca4e"
      },
      "source": [
        "min_max(df, \"largura_sepala_cm\")"
      ],
      "execution_count": null,
      "outputs": [
        {
          "output_type": "stream",
          "text": [
            "A classe Iris-versicolor possui o menor largura_sepala_cm\n",
            "A classe Iris-setosa possui o maior largura_sepala_cm\n"
          ],
          "name": "stdout"
        }
      ]
    },
    {
      "cell_type": "code",
      "metadata": {
        "id": "rZ-yxGRze9Ty",
        "colab": {
          "base_uri": "https://localhost:8080/"
        },
        "outputId": "a7c6365d-1da7-4d27-e792-04de61170d06"
      },
      "source": [
        "df[\"largura_sepala_cm\"].describe()"
      ],
      "execution_count": null,
      "outputs": [
        {
          "output_type": "execute_result",
          "data": {
            "text/plain": [
              "count    150.000000\n",
              "mean       3.054000\n",
              "std        0.433594\n",
              "min        2.000000\n",
              "25%        2.800000\n",
              "50%        3.000000\n",
              "75%        3.300000\n",
              "max        4.400000\n",
              "Name: largura_sepala_cm, dtype: float64"
            ]
          },
          "metadata": {
            "tags": []
          },
          "execution_count": 58
        }
      ]
    },
    {
      "cell_type": "code",
      "metadata": {
        "id": "DnWkQHtaZE4I"
      },
      "source": [],
      "execution_count": null,
      "outputs": []
    }
  ]
}